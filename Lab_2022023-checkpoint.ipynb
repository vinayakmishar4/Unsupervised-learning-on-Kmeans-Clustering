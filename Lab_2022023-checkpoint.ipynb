{
 "cells": [
  {
   "cell_type": "markdown",
   "metadata": {},
   "source": [
    "# LAB ON UNSUPERVISED LEARNING ON Kmeans Clustering"
   ]
  },
  {
   "cell_type": "code",
   "execution_count": 3,
   "metadata": {},
   "outputs": [
    {
     "data": {
      "text/html": [
       "<div>\n",
       "<style scoped>\n",
       "    .dataframe tbody tr th:only-of-type {\n",
       "        vertical-align: middle;\n",
       "    }\n",
       "\n",
       "    .dataframe tbody tr th {\n",
       "        vertical-align: top;\n",
       "    }\n",
       "\n",
       "    .dataframe thead th {\n",
       "        text-align: right;\n",
       "    }\n",
       "</style>\n",
       "<table border=\"1\" class=\"dataframe\">\n",
       "  <thead>\n",
       "    <tr style=\"text-align: right;\">\n",
       "      <th></th>\n",
       "      <th>PassengerId</th>\n",
       "      <th>Survived</th>\n",
       "      <th>Pclass</th>\n",
       "      <th>Name</th>\n",
       "      <th>Sex</th>\n",
       "      <th>Age</th>\n",
       "      <th>SibSp</th>\n",
       "      <th>Parch</th>\n",
       "      <th>Ticket</th>\n",
       "      <th>Fare</th>\n",
       "      <th>Cabin</th>\n",
       "      <th>Embarked</th>\n",
       "    </tr>\n",
       "  </thead>\n",
       "  <tbody>\n",
       "    <tr>\n",
       "      <th>0</th>\n",
       "      <td>1</td>\n",
       "      <td>0</td>\n",
       "      <td>3</td>\n",
       "      <td>Braund, Mr. Owen Harris</td>\n",
       "      <td>male</td>\n",
       "      <td>22.0</td>\n",
       "      <td>1</td>\n",
       "      <td>0</td>\n",
       "      <td>A/5 21171</td>\n",
       "      <td>7.2500</td>\n",
       "      <td>NaN</td>\n",
       "      <td>S</td>\n",
       "    </tr>\n",
       "    <tr>\n",
       "      <th>1</th>\n",
       "      <td>2</td>\n",
       "      <td>1</td>\n",
       "      <td>1</td>\n",
       "      <td>Cumings, Mrs. John Bradley (Florence Briggs Th...</td>\n",
       "      <td>female</td>\n",
       "      <td>38.0</td>\n",
       "      <td>1</td>\n",
       "      <td>0</td>\n",
       "      <td>PC 17599</td>\n",
       "      <td>71.2833</td>\n",
       "      <td>C85</td>\n",
       "      <td>C</td>\n",
       "    </tr>\n",
       "    <tr>\n",
       "      <th>2</th>\n",
       "      <td>3</td>\n",
       "      <td>1</td>\n",
       "      <td>3</td>\n",
       "      <td>Heikkinen, Miss. Laina</td>\n",
       "      <td>female</td>\n",
       "      <td>26.0</td>\n",
       "      <td>0</td>\n",
       "      <td>0</td>\n",
       "      <td>STON/O2. 3101282</td>\n",
       "      <td>7.9250</td>\n",
       "      <td>NaN</td>\n",
       "      <td>S</td>\n",
       "    </tr>\n",
       "    <tr>\n",
       "      <th>3</th>\n",
       "      <td>4</td>\n",
       "      <td>1</td>\n",
       "      <td>1</td>\n",
       "      <td>Futrelle, Mrs. Jacques Heath (Lily May Peel)</td>\n",
       "      <td>female</td>\n",
       "      <td>35.0</td>\n",
       "      <td>1</td>\n",
       "      <td>0</td>\n",
       "      <td>113803</td>\n",
       "      <td>53.1000</td>\n",
       "      <td>C123</td>\n",
       "      <td>S</td>\n",
       "    </tr>\n",
       "    <tr>\n",
       "      <th>4</th>\n",
       "      <td>5</td>\n",
       "      <td>0</td>\n",
       "      <td>3</td>\n",
       "      <td>Allen, Mr. William Henry</td>\n",
       "      <td>male</td>\n",
       "      <td>35.0</td>\n",
       "      <td>0</td>\n",
       "      <td>0</td>\n",
       "      <td>373450</td>\n",
       "      <td>8.0500</td>\n",
       "      <td>NaN</td>\n",
       "      <td>S</td>\n",
       "    </tr>\n",
       "  </tbody>\n",
       "</table>\n",
       "</div>"
      ],
      "text/plain": [
       "   PassengerId  Survived  Pclass  \\\n",
       "0            1         0       3   \n",
       "1            2         1       1   \n",
       "2            3         1       3   \n",
       "3            4         1       1   \n",
       "4            5         0       3   \n",
       "\n",
       "                                                Name     Sex   Age  SibSp  \\\n",
       "0                            Braund, Mr. Owen Harris    male  22.0      1   \n",
       "1  Cumings, Mrs. John Bradley (Florence Briggs Th...  female  38.0      1   \n",
       "2                             Heikkinen, Miss. Laina  female  26.0      0   \n",
       "3       Futrelle, Mrs. Jacques Heath (Lily May Peel)  female  35.0      1   \n",
       "4                           Allen, Mr. William Henry    male  35.0      0   \n",
       "\n",
       "   Parch            Ticket     Fare Cabin Embarked  \n",
       "0      0         A/5 21171   7.2500   NaN        S  \n",
       "1      0          PC 17599  71.2833   C85        C  \n",
       "2      0  STON/O2. 3101282   7.9250   NaN        S  \n",
       "3      0            113803  53.1000  C123        S  \n",
       "4      0            373450   8.0500   NaN        S  "
      ]
     },
     "execution_count": 3,
     "metadata": {},
     "output_type": "execute_result"
    }
   ],
   "source": [
    "import pandas as pd\n",
    "import numpy as np\n",
    "# read the titanic dataset\n",
    "df=pd.read_csv(\"C:/Users/DITU/Documents/titan.csv\")\n",
    "df.head()"
   ]
  },
  {
   "cell_type": "code",
   "execution_count": 5,
   "metadata": {},
   "outputs": [
    {
     "data": {
      "text/plain": [
       "[(1, 20),\n",
       " (5, 11),\n",
       " (3, 17),\n",
       " (8, 15),\n",
       " (6, 14),\n",
       " (7, 13),\n",
       " (2, 12),\n",
       " (8, 18),\n",
       " (2, 19),\n",
       " (1, 13)]"
      ]
     },
     "execution_count": 5,
     "metadata": {},
     "output_type": "execute_result"
    }
   ],
   "source": [
    "x=[1,5,3,8,6,7,2,8,2,1]\n",
    "y=[20,11,17,15,14,13,12,18,19,13]\n",
    "data=list(zip(x,y))\n",
    "data"
   ]
  },
  {
   "cell_type": "code",
   "execution_count": 6,
   "metadata": {},
   "outputs": [
    {
     "data": {
      "text/plain": [
       "KMeans(algorithm='auto', copy_x=True, init='k-means++', max_iter=300,\n",
       "    n_clusters=2, n_init=10, n_jobs=None, precompute_distances='auto',\n",
       "    random_state=None, tol=0.0001, verbose=0)"
      ]
     },
     "execution_count": 6,
     "metadata": {},
     "output_type": "execute_result"
    }
   ],
   "source": [
    "from sklearn.cluster import KMeans\n",
    "model=KMeans(n_clusters=2)\n",
    "model.fit(data)"
   ]
  },
  {
   "cell_type": "code",
   "execution_count": 9,
   "metadata": {},
   "outputs": [
    {
     "data": {
      "text/plain": [
       "<function matplotlib.pyplot.show(*args, **kw)>"
      ]
     },
     "execution_count": 9,
     "metadata": {},
     "output_type": "execute_result"
    },
    {
     "data": {
      "image/png": "[encoded data removed]",
      "text/plain": [
       "<Figure size 432x288 with 1 Axes>"
      ]
     },
     "metadata": {
      "needs_background": "light"
     },
     "output_type": "display_data"
    }
   ],
   "source": [
    "# import matplotlib lib in python\n",
    "import matplotlib.pyplot as plt\n",
    "# use scatter plot function\n",
    "plt.scatter(x,y,c=model.labels_)\n",
    "plt.show"
   ]
  },
  {
   "cell_type": "code",
   "execution_count": 11,
   "metadata": {},
   "outputs": [],
   "source": [
    "import pandas as pd\n",
    "import numpy as np\n",
    "# read the titanic dataset\n",
    "df=pd.read_csv(\"C:/Users/DITU/Documents/iris.csv\")"
   ]
  },
  {
   "cell_type": "code",
   "execution_count": 12,
   "metadata": {},
   "outputs": [
    {
     "data": {
      "text/html": [
       "<div>\n",
       "<style scoped>\n",
       "    .dataframe tbody tr th:only-of-type {\n",
       "        vertical-align: middle;\n",
       "    }\n",
       "\n",
       "    .dataframe tbody tr th {\n",
       "        vertical-align: top;\n",
       "    }\n",
       "\n",
       "    .dataframe thead th {\n",
       "        text-align: right;\n",
       "    }\n",
       "</style>\n",
       "<table border=\"1\" class=\"dataframe\">\n",
       "  <thead>\n",
       "    <tr style=\"text-align: right;\">\n",
       "      <th></th>\n",
       "      <th>sepal.length</th>\n",
       "      <th>sepal.width</th>\n",
       "      <th>petal.length</th>\n",
       "      <th>petal.width</th>\n",
       "      <th>variety</th>\n",
       "    </tr>\n",
       "  </thead>\n",
       "  <tbody>\n",
       "    <tr>\n",
       "      <th>0</th>\n",
       "      <td>5.1</td>\n",
       "      <td>3.5</td>\n",
       "      <td>1.4</td>\n",
       "      <td>0.2</td>\n",
       "      <td>Setosa</td>\n",
       "    </tr>\n",
       "    <tr>\n",
       "      <th>1</th>\n",
       "      <td>4.9</td>\n",
       "      <td>3.0</td>\n",
       "      <td>1.4</td>\n",
       "      <td>0.2</td>\n",
       "      <td>Setosa</td>\n",
       "    </tr>\n",
       "    <tr>\n",
       "      <th>2</th>\n",
       "      <td>4.7</td>\n",
       "      <td>3.2</td>\n",
       "      <td>1.3</td>\n",
       "      <td>0.2</td>\n",
       "      <td>Setosa</td>\n",
       "    </tr>\n",
       "    <tr>\n",
       "      <th>3</th>\n",
       "      <td>4.6</td>\n",
       "      <td>3.1</td>\n",
       "      <td>1.5</td>\n",
       "      <td>0.2</td>\n",
       "      <td>Setosa</td>\n",
       "    </tr>\n",
       "    <tr>\n",
       "      <th>4</th>\n",
       "      <td>5.0</td>\n",
       "      <td>3.6</td>\n",
       "      <td>1.4</td>\n",
       "      <td>0.2</td>\n",
       "      <td>Setosa</td>\n",
       "    </tr>\n",
       "  </tbody>\n",
       "</table>\n",
       "</div>"
      ],
      "text/plain": [
       "   sepal.length  sepal.width  petal.length  petal.width variety\n",
       "0           5.1          3.5           1.4          0.2  Setosa\n",
       "1           4.9          3.0           1.4          0.2  Setosa\n",
       "2           4.7          3.2           1.3          0.2  Setosa\n",
       "3           4.6          3.1           1.5          0.2  Setosa\n",
       "4           5.0          3.6           1.4          0.2  Setosa"
      ]
     },
     "execution_count": 12,
     "metadata": {},
     "output_type": "execute_result"
    }
   ],
   "source": [
    "df.head()"
   ]
  },
  {
   "cell_type": "code",
   "execution_count": 18,
   "metadata": {},
   "outputs": [
    {
     "data": {
      "text/plain": [
       "[(5.1, 1.4),\n",
       " (4.9, 1.4),\n",
       " (4.7, 1.3),\n",
       " (4.6, 1.5),\n",
       " (5.0, 1.4),\n",
       " (5.4, 1.7),\n",
       " (4.6, 1.4),\n",
       " (5.0, 1.5),\n",
       " (4.4, 1.4),\n",
       " (4.9, 1.5),\n",
       " (5.4, 1.5),\n",
       " (4.8, 1.6),\n",
       " (4.8, 1.4),\n",
       " (4.3, 1.1),\n",
       " (5.8, 1.2),\n",
       " (5.7, 1.5),\n",
       " (5.4, 1.3),\n",
       " (5.1, 1.4),\n",
       " (5.7, 1.7),\n",
       " (5.1, 1.5),\n",
       " (5.4, 1.7),\n",
       " (5.1, 1.5),\n",
       " (4.6, 1.0),\n",
       " (5.1, 1.7),\n",
       " (4.8, 1.9),\n",
       " (5.0, 1.6),\n",
       " (5.0, 1.6),\n",
       " (5.2, 1.5),\n",
       " (5.2, 1.4),\n",
       " (4.7, 1.6),\n",
       " (4.8, 1.6),\n",
       " (5.4, 1.5),\n",
       " (5.2, 1.5),\n",
       " (5.5, 1.4),\n",
       " (4.9, 1.5),\n",
       " (5.0, 1.2),\n",
       " (5.5, 1.3),\n",
       " (4.9, 1.4),\n",
       " (4.4, 1.3),\n",
       " (5.1, 1.5),\n",
       " (5.0, 1.3),\n",
       " (4.5, 1.3),\n",
       " (4.4, 1.3),\n",
       " (5.0, 1.6),\n",
       " (5.1, 1.9),\n",
       " (4.8, 1.4),\n",
       " (5.1, 1.6),\n",
       " (4.6, 1.4),\n",
       " (5.3, 1.5),\n",
       " (5.0, 1.4),\n",
       " (7.0, 4.7),\n",
       " (6.4, 4.5),\n",
       " (6.9, 4.9),\n",
       " (5.5, 4.0),\n",
       " (6.5, 4.6),\n",
       " (5.7, 4.5),\n",
       " (6.3, 4.7),\n",
       " (4.9, 3.3),\n",
       " (6.6, 4.6),\n",
       " (5.2, 3.9),\n",
       " (5.0, 3.5),\n",
       " (5.9, 4.2),\n",
       " (6.0, 4.0),\n",
       " (6.1, 4.7),\n",
       " (5.6, 3.6),\n",
       " (6.7, 4.4),\n",
       " (5.6, 4.5),\n",
       " (5.8, 4.1),\n",
       " (6.2, 4.5),\n",
       " (5.6, 3.9),\n",
       " (5.9, 4.8),\n",
       " (6.1, 4.0),\n",
       " (6.3, 4.9),\n",
       " (6.1, 4.7),\n",
       " (6.4, 4.3),\n",
       " (6.6, 4.4),\n",
       " (6.8, 4.8),\n",
       " (6.7, 5.0),\n",
       " (6.0, 4.5),\n",
       " (5.7, 3.5),\n",
       " (5.5, 3.8),\n",
       " (5.5, 3.7),\n",
       " (5.8, 3.9),\n",
       " (6.0, 5.1),\n",
       " (5.4, 4.5),\n",
       " (6.0, 4.5),\n",
       " (6.7, 4.7),\n",
       " (6.3, 4.4),\n",
       " (5.6, 4.1),\n",
       " (5.5, 4.0),\n",
       " (5.5, 4.4),\n",
       " (6.1, 4.6),\n",
       " (5.8, 4.0),\n",
       " (5.0, 3.3),\n",
       " (5.6, 4.2),\n",
       " (5.7, 4.2),\n",
       " (5.7, 4.2),\n",
       " (6.2, 4.3),\n",
       " (5.1, 3.0),\n",
       " (5.7, 4.1),\n",
       " (6.3, 6.0),\n",
       " (5.8, 5.1),\n",
       " (7.1, 5.9),\n",
       " (6.3, 5.6),\n",
       " (6.5, 5.8),\n",
       " (7.6, 6.6),\n",
       " (4.9, 4.5),\n",
       " (7.3, 6.3),\n",
       " (6.7, 5.8),\n",
       " (7.2, 6.1),\n",
       " (6.5, 5.1),\n",
       " (6.4, 5.3),\n",
       " (6.8, 5.5),\n",
       " (5.7, 5.0),\n",
       " (5.8, 5.1),\n",
       " (6.4, 5.3),\n",
       " (6.5, 5.5),\n",
       " (7.7, 6.7),\n",
       " (7.7, 6.9),\n",
       " (6.0, 5.0),\n",
       " (6.9, 5.7),\n",
       " (5.6, 4.9),\n",
       " (7.7, 6.7),\n",
       " (6.3, 4.9),\n",
       " (6.7, 5.7),\n",
       " (7.2, 6.0),\n",
       " (6.2, 4.8),\n",
       " (6.1, 4.9),\n",
       " (6.4, 5.6),\n",
       " (7.2, 5.8),\n",
       " (7.4, 6.1),\n",
       " (7.9, 6.4),\n",
       " (6.4, 5.6),\n",
       " (6.3, 5.1),\n",
       " (6.1, 5.6),\n",
       " (7.7, 6.1),\n",
       " (6.3, 5.6),\n",
       " (6.4, 5.5),\n",
       " (6.0, 4.8),\n",
       " (6.9, 5.4),\n",
       " (6.7, 5.6),\n",
       " (6.9, 5.1),\n",
       " (5.8, 5.1),\n",
       " (6.8, 5.9),\n",
       " (6.7, 5.7),\n",
       " (6.7, 5.2),\n",
       " (6.3, 5.0),\n",
       " (6.5, 5.2),\n",
       " (6.2, 5.4),\n",
       " (5.9, 5.1)]"
      ]
     },
     "execution_count": 18,
     "metadata": {},
     "output_type": "execute_result"
    }
   ],
   "source": [
    "x=df['sepal.length']\n",
    "y=df['petal.length']\n",
    "data=list(zip(x,y))\n",
    "data"
   ]
  },
  {
   "cell_type": "code",
   "execution_count": 22,
   "metadata": {},
   "outputs": [
    {
     "data": {
      "text/plain": [
       "KMeans(algorithm='auto', copy_x=True, init='k-means++', max_iter=300,\n",
       "    n_clusters=5, n_init=10, n_jobs=None, precompute_distances='auto',\n",
       "    random_state=None, tol=0.0001, verbose=0)"
      ]
     },
     "execution_count": 22,
     "metadata": {},
     "output_type": "execute_result"
    }
   ],
   "source": [
    "from sklearn.cluster import KMeans\n",
    "model=KMeans(n_clusters=5)\n",
    "model.fit(data)"
   ]
  },
  {
   "cell_type": "code",
   "execution_count": 23,
   "metadata": {},
   "outputs": [
    {
     "data": {
      "text/plain": [
       "<function matplotlib.pyplot.show(*args, **kw)>"
      ]
     },
     "execution_count": 23,
     "metadata": {},
     "output_type": "execute_result"
    },
    {
     "data": {
      "image/png": "[encoded data removed]",
      "text/plain": [
       "<Figure size 432x288 with 1 Axes>"
      ]
     },
     "metadata": {
      "needs_background": "light"
     },
     "output_type": "display_data"
    }
   ],
   "source": [
    "plt.scatter(x,y,c=model.labels_)\n",
    "plt.show"
   ]
  },
  {
   "cell_type": "code",
   "execution_count": 10,
   "metadata": {},
   "outputs": [],
   "source": [
    "import pandas as pd\n",
    "import numpy as np\n",
    "# read the titanic dataset\n",
    "df=pd.read_csv(\"C:/Users/DITU/Documents/iris.csv\")\n",
    "\n",
    "x=df['sepal.length']\n",
    "y=df['petal.length']\n",
    "data = list(zip(x, y))\n",
    "#data\n",
    "import matplotlib.pyplot as plt\n"
   ]
  },
  {
   "cell_type": "code",
   "execution_count": 11,
   "metadata": {},
   "outputs": [
    {
     "data": {
      "text/plain": [
       "AgglomerativeClustering(affinity='euclidean', compute_full_tree='auto',\n",
       "            connectivity=None, linkage='ward', memory=None, n_clusters=5,\n",
       "            pooling_func='deprecated')"
      ]
     },
     "execution_count": 11,
     "metadata": {},
     "output_type": "execute_result"
    }
   ],
   "source": [
    "from sklearn.cluster import AgglomerativeClustering\n",
    "model=AgglomerativeClustering(n_clusters=5)\n",
    "model.fit(data)"
   ]
  },
  {
   "cell_type": "code",
   "execution_count": 12,
   "metadata": {},
   "outputs": [
    {
     "data": {
      "text/plain": [
       "<function matplotlib.pyplot.show(*args, **kw)>"
      ]
     },
     "execution_count": 12,
     "metadata": {},
     "output_type": "execute_result"
    },
    {
     "data": {
      "image/png": "[encoded data removed]",
      "text/plain": [
       "<Figure size 432x288 with 1 Axes>"
      ]
     },
     "metadata": {
      "needs_background": "light"
     },
     "output_type": "display_data"
    }
   ],
   "source": [
    "plt.scatter(x,y,c=model.labels_)\n",
    "plt.show"
   ]
  },
  {
   "cell_type": "code",
   "execution_count": null,
   "metadata": {},
   "outputs": [],
   "source": []
  }
 ],
 "metadata": {
  "kernelspec": {
   "display_name": "Python 3",
   "language": "python",
   "name": "python3"
  },
  "language_info": {
   "codemirror_mode": {
    "name": "ipython",
    "version": 3
   },
   "file_extension": ".py",
   "mimetype": "text/x-python",
   "name": "python",
   "nbconvert_exporter": "python",
   "pygments_lexer": "ipython3",
   "version": "3.7.3"
  }
 },
 "nbformat": 4,
 "nbformat_minor": 2
}
